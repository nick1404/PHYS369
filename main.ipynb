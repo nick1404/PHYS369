{
 "cells": [
  {
   "cell_type": "code",
   "execution_count": 7,
   "metadata": {},
   "outputs": [],
   "source": [
    "import pandas as pd\n",
    "import numpy as np\n",
    "from matplotlib import pyplot as plt\n",
    "from plot import plotstart\n",
    "\n",
    "raw = pd.read_csv(\"/Users/nickmisiiuk/dev/PHYS369/data/legac+gz.csv\")\n",
    "\n",
    "low_mag = raw[(raw[\"ip_mag\"] <= 22) & (raw[\"zp_mag\"] <= 22)] #remove high magnitude galaxies and reduce uncertainty\n",
    "\n",
    "gal_smooth = low_mag[low_mag[\"type\"] == \"S\"]\n",
    "\n",
    "gal_feat = low_mag[low_mag[\"type\"] == \"F\"]"
   ]
  },
  {
   "cell_type": "code",
   "execution_count": null,
   "metadata": {},
   "outputs": [],
   "source": [
    "# Plot log(SFR) vs redshift\n",
    "plot_data = [[gal_smooth[\"z_spec\"], gal_smooth[\"lsfr_UV_IR\"]],\n",
    "             [gal_feat[\"z_spec\"], gal_feat[\"lsfr_UV_IR\"]]]\n",
    "\n",
    "plotstart(plot_data, \"scatter\", dataset=[\n",
    "          \"Smooth\", \"Featured\"], y_label=\"log(SFR)\", x_label=\"Redshift\")"
   ]
  },
  {
   "cell_type": "code",
   "execution_count": null,
   "metadata": {},
   "outputs": [],
   "source": [
    "# Plot radio sfr vs redshift\n",
    "plot_data = [[gal_smooth[\"z_spec\"], gal_smooth[\"sfr_3ghz\"]], #errors \"esfr_3ghz\"\n",
    "             [gal_feat[\"z_spec\"], gal_feat[\"sfr_3ghz\"]]]\n",
    "\n",
    "plotstart(plot_data, \"scatter\", dataset=[\n",
    "          \"Smooth\", \"Featured\"], y_label=\"sfr_3ghz\", x_label=\"Redshift\")"
   ]
  },
  {
   "cell_type": "markdown",
   "metadata": {},
   "source": [
    "### ML Approach\n",
    "Combining SFR data from UV and IR, plotting relation A*uv + B*ir VS radio SFR to determine values of A and B that produce a correlation of 1"
   ]
  },
  {
   "cell_type": "code",
   "execution_count": 4,
   "metadata": {},
   "outputs": [],
   "source": [
    "#Import required sklearn modules\n",
    "from sklearn.linear_model import LinearRegression\n",
    "from sklearn.model_selection import train_test_split\n",
    "from sklearn.metrics import r2_score\n",
    "from sklearn.metrics import mean_squared_error\n",
    "\n",
    "#Download legac dataset\n",
    "legac = pd.read_csv(\"/Users/nickmisiiuk/dev/PHYS369/data/legac.csv\")\n",
    "legac_1 = legac[(legac[\"ip_mag\"] <= 22) & (legac[\"zp_mag\"] <= 22)]\n",
    "\n",
    "#Filter anomalies\n",
    "legac_final = legac_1[(legac_1[\"lsfr_UV\"]> -90) & (legac_1[\"lsfr_IR\"]> -90)]\n",
    "#Filter out the negative values\n",
    "legac_final = legac_final[legac_final[\"sfr_3ghz\"]> 0]\n",
    "\n",
    "legac_final[\"sfr_3ghz\"] = legac_final[\"sfr_3ghz\"].apply(np.log)"
   ]
  },
  {
   "cell_type": "code",
   "execution_count": null,
   "metadata": {},
   "outputs": [],
   "source": [
    "# Define what are out model variables. We have identified that the best ones are:\n",
    "x = legac_final[['lsfr_UV', 'lsfr_IR']]\n",
    "# We want to predict the outcome, in this case either 0 (no claim) or 1 (claim)\n",
    "y = legac_final['sfr_3ghz']\n",
    "\n",
    "# splitting the data into a sub-set to train and the rest to test a simple model\n",
    "# Using 20% of the sample drawn up randomly multiple times to train\n",
    "x_train, x_test, y_train, y_test = train_test_split(x, y, test_size = 0.2, random_state = 42)\n",
    "\n",
    "# creating an object of LinearRegression class\n",
    "LR = LinearRegression(fit_intercept=True)\n",
    "# fitting the training data and providing us with a simple model and how outcome depends linearly on the 5 parameters picked up\n",
    "LR.fit(x_train,y_train)\n",
    "coeffs = LR.coef_\n",
    "print(\"A\", coeffs[0])\n",
    "print(\"B\", coeffs[1])\n",
    "\n",
    "# Get the predicted values of sfr\n",
    "sfr_predicted =  LR.predict(x_test)\n",
    "\n",
    "# predicting the accuracy score\n",
    "score=r2_score(y_test,sfr_predicted)\n",
    "\n",
    "print('r^2:',score)\n",
    "print('mean_sqrd_error:',mean_squared_error(y_test,sfr_predicted))\n",
    "print('root_mean_squared error:',np.sqrt(mean_squared_error(y_test,sfr_predicted)))\n"
   ]
  },
  {
   "cell_type": "markdown",
   "metadata": {},
   "source": [
    "Arguing the validity of using these A and B values "
   ]
  },
  {
   "cell_type": "code",
   "execution_count": null,
   "metadata": {},
   "outputs": [],
   "source": [
    "#Set coefficients A and B\n",
    "A = -0.15869064\n",
    "B = 1.12213507\n",
    "\n",
    "#Create new column of combined UV + IR sfr\n",
    "low_mag[\"lSFR_final\"] = A * low_mag[\"lsfr_UV\"] + B * low_mag[\"lsfr_IR\"]\n",
    "low_mag[\"lSFR_final\"] = A * low_mag[\"lsfr_UV\"] + B * low_mag[\"lsfr_IR\"]\n",
    "\n",
    "#Filter anomalies\n",
    "new_df = low_mag[(low_mag[\"lsfr_UV\"]> -90) & (low_mag[\"lsfr_IR\"]> -90)]\n",
    "\n",
    "smooth_df = new_df[new_df[\"type\"] == \"S\"]\n",
    "feat_df = new_df[new_df[\"type\"] == \"F\"]\n",
    "\n",
    "#Split mass into bins\n",
    "smooth_m1 = smooth_df[smooth_df[\"fast_lmass\"] <= 10.5]\n",
    "smooth_m2 = smooth_df[(smooth_df[\"fast_lmass\"] >= 10.5) & (smooth_df[\"fast_lmass\"] <= 11)]\n",
    "smooth_m3 = smooth_df[smooth_df[\"fast_lmass\"] > 11]\n",
    "feat_m1 = feat_df[feat_df[\"fast_lmass\"] <= 10.5]\n",
    "feat_m2 = feat_df[(feat_df[\"fast_lmass\"] >= 10.5) & (feat_df[\"fast_lmass\"] <= 11)]\n",
    "feat_m3 = feat_df[feat_df[\"fast_lmass\"] > 11]"
   ]
  },
  {
   "cell_type": "markdown",
   "metadata": {},
   "source": [
    "### Plot of log(SFR) against Redshift for different galaxy morphologies and masses "
   ]
  },
  {
   "cell_type": "code",
   "execution_count": null,
   "metadata": {},
   "outputs": [],
   "source": [
    "plot_data = [[smooth_m3[\"z_spec\"], smooth_m3[\"lSFR_final\"]], [feat_m3[\"z_spec\"], feat_m3[\"lSFR_final\"]]]\n",
    "\n",
    "plotstart(plot_data, \"scatter\", dataset=[\n",
    "          \"Smooth\", \"Featured\"], y_label=\"lSFR_final\", x_label=\"Redshift\")"
   ]
  },
  {
   "cell_type": "markdown",
   "metadata": {},
   "source": [
    "# Task 2 -- Overdensity"
   ]
  },
  {
   "cell_type": "code",
   "execution_count": null,
   "metadata": {},
   "outputs": [],
   "source": [
    "# Plot overdensity vs redshift\n",
    "legac_overdensity = legac_1[(legac_1[\"darvish_overdensity\"] > -90) & (legac_1[\"z_spec\"] > -90)]\n",
    "\n",
    "plt.figure(dpi=200)\n",
    "ax = plt.axes()\n",
    "ax.set_xlabel(\"Redshift\")\n",
    "ax.set_ylabel(\"Overdensity\")\n",
    "\n",
    "plt.scatter(legac_overdensity[\"z_spec\"], legac_overdensity[\"darvish_overdensity\"], s=1, marker='.')\n",
    "plt.tick_params(which='both', direction='in', right=True, top=True)\n",
    "plt.show()"
   ]
  },
  {
   "cell_type": "code",
   "execution_count": 10,
   "metadata": {},
   "outputs": [
    {
     "ename": "KeyError",
     "evalue": "'lSFR_final'",
     "output_type": "error",
     "traceback": [
      "\u001b[0;31m---------------------------------------------------------------------------\u001b[0m",
      "\u001b[0;31mKeyError\u001b[0m                                  Traceback (most recent call last)",
      "\u001b[0;32m/opt/anaconda3/envs/phys369/lib/python3.9/site-packages/pandas/core/indexes/base.py\u001b[0m in \u001b[0;36mget_loc\u001b[0;34m(self, key, method, tolerance)\u001b[0m\n\u001b[1;32m   3360\u001b[0m             \u001b[0;32mtry\u001b[0m\u001b[0;34m:\u001b[0m\u001b[0;34m\u001b[0m\u001b[0;34m\u001b[0m\u001b[0m\n\u001b[0;32m-> 3361\u001b[0;31m                 \u001b[0;32mreturn\u001b[0m \u001b[0mself\u001b[0m\u001b[0;34m.\u001b[0m\u001b[0m_engine\u001b[0m\u001b[0;34m.\u001b[0m\u001b[0mget_loc\u001b[0m\u001b[0;34m(\u001b[0m\u001b[0mcasted_key\u001b[0m\u001b[0;34m)\u001b[0m\u001b[0;34m\u001b[0m\u001b[0;34m\u001b[0m\u001b[0m\n\u001b[0m\u001b[1;32m   3362\u001b[0m             \u001b[0;32mexcept\u001b[0m \u001b[0mKeyError\u001b[0m \u001b[0;32mas\u001b[0m \u001b[0merr\u001b[0m\u001b[0;34m:\u001b[0m\u001b[0;34m\u001b[0m\u001b[0;34m\u001b[0m\u001b[0m\n",
      "\u001b[0;32m/opt/anaconda3/envs/phys369/lib/python3.9/site-packages/pandas/_libs/index.pyx\u001b[0m in \u001b[0;36mpandas._libs.index.IndexEngine.get_loc\u001b[0;34m()\u001b[0m\n",
      "\u001b[0;32m/opt/anaconda3/envs/phys369/lib/python3.9/site-packages/pandas/_libs/index.pyx\u001b[0m in \u001b[0;36mpandas._libs.index.IndexEngine.get_loc\u001b[0;34m()\u001b[0m\n",
      "\u001b[0;32mpandas/_libs/hashtable_class_helper.pxi\u001b[0m in \u001b[0;36mpandas._libs.hashtable.PyObjectHashTable.get_item\u001b[0;34m()\u001b[0m\n",
      "\u001b[0;32mpandas/_libs/hashtable_class_helper.pxi\u001b[0m in \u001b[0;36mpandas._libs.hashtable.PyObjectHashTable.get_item\u001b[0;34m()\u001b[0m\n",
      "\u001b[0;31mKeyError\u001b[0m: 'lSFR_final'",
      "\nThe above exception was the direct cause of the following exception:\n",
      "\u001b[0;31mKeyError\u001b[0m                                  Traceback (most recent call last)",
      "\u001b[0;32m/var/folders/8b/vjhhgmzj0dq1jtxfpln8g6fh0000gr/T/ipykernel_75907/3881108615.py\u001b[0m in \u001b[0;36m<module>\u001b[0;34m\u001b[0m\n\u001b[1;32m     10\u001b[0m \u001b[0max\u001b[0m\u001b[0;34m.\u001b[0m\u001b[0mset_ylabel\u001b[0m\u001b[0;34m(\u001b[0m\u001b[0;34m\"Overdensity\"\u001b[0m\u001b[0;34m)\u001b[0m\u001b[0;34m\u001b[0m\u001b[0;34m\u001b[0m\u001b[0m\n\u001b[1;32m     11\u001b[0m \u001b[0;34m\u001b[0m\u001b[0m\n\u001b[0;32m---> 12\u001b[0;31m \u001b[0mplt\u001b[0m\u001b[0;34m.\u001b[0m\u001b[0mscatter\u001b[0m\u001b[0;34m(\u001b[0m\u001b[0mlegac_overdensity_4\u001b[0m\u001b[0;34m[\u001b[0m\u001b[0;34m\"z_spec\"\u001b[0m\u001b[0;34m]\u001b[0m\u001b[0;34m,\u001b[0m \u001b[0mlegac_overdensity_4\u001b[0m\u001b[0;34m[\u001b[0m\u001b[0;34m\"lSFR_final\"\u001b[0m\u001b[0;34m]\u001b[0m\u001b[0;34m,\u001b[0m \u001b[0ms\u001b[0m\u001b[0;34m=\u001b[0m\u001b[0;36m1\u001b[0m\u001b[0;34m,\u001b[0m \u001b[0mmarker\u001b[0m\u001b[0;34m=\u001b[0m\u001b[0;34m\".\"\u001b[0m\u001b[0;34m,\u001b[0m \u001b[0mlabel\u001b[0m\u001b[0;34m=\u001b[0m\u001b[0;34m\"Overdensity > 9\"\u001b[0m\u001b[0;34m)\u001b[0m\u001b[0;34m\u001b[0m\u001b[0;34m\u001b[0m\u001b[0m\n\u001b[0m\u001b[1;32m     13\u001b[0m \u001b[0mplt\u001b[0m\u001b[0;34m.\u001b[0m\u001b[0mtick_params\u001b[0m\u001b[0;34m(\u001b[0m\u001b[0mwhich\u001b[0m\u001b[0;34m=\u001b[0m\u001b[0;34m'both'\u001b[0m\u001b[0;34m,\u001b[0m \u001b[0mdirection\u001b[0m\u001b[0;34m=\u001b[0m\u001b[0;34m'in'\u001b[0m\u001b[0;34m,\u001b[0m \u001b[0mright\u001b[0m\u001b[0;34m=\u001b[0m\u001b[0;32mTrue\u001b[0m\u001b[0;34m,\u001b[0m \u001b[0mtop\u001b[0m\u001b[0;34m=\u001b[0m\u001b[0;32mTrue\u001b[0m\u001b[0;34m)\u001b[0m\u001b[0;34m\u001b[0m\u001b[0;34m\u001b[0m\u001b[0m\n\u001b[1;32m     14\u001b[0m \u001b[0mplt\u001b[0m\u001b[0;34m.\u001b[0m\u001b[0mlegend\u001b[0m\u001b[0;34m(\u001b[0m\u001b[0;34m)\u001b[0m\u001b[0;34m\u001b[0m\u001b[0;34m\u001b[0m\u001b[0m\n",
      "\u001b[0;32m/opt/anaconda3/envs/phys369/lib/python3.9/site-packages/pandas/core/frame.py\u001b[0m in \u001b[0;36m__getitem__\u001b[0;34m(self, key)\u001b[0m\n\u001b[1;32m   3456\u001b[0m             \u001b[0;32mif\u001b[0m \u001b[0mself\u001b[0m\u001b[0;34m.\u001b[0m\u001b[0mcolumns\u001b[0m\u001b[0;34m.\u001b[0m\u001b[0mnlevels\u001b[0m \u001b[0;34m>\u001b[0m \u001b[0;36m1\u001b[0m\u001b[0;34m:\u001b[0m\u001b[0;34m\u001b[0m\u001b[0;34m\u001b[0m\u001b[0m\n\u001b[1;32m   3457\u001b[0m                 \u001b[0;32mreturn\u001b[0m \u001b[0mself\u001b[0m\u001b[0;34m.\u001b[0m\u001b[0m_getitem_multilevel\u001b[0m\u001b[0;34m(\u001b[0m\u001b[0mkey\u001b[0m\u001b[0;34m)\u001b[0m\u001b[0;34m\u001b[0m\u001b[0;34m\u001b[0m\u001b[0m\n\u001b[0;32m-> 3458\u001b[0;31m             \u001b[0mindexer\u001b[0m \u001b[0;34m=\u001b[0m \u001b[0mself\u001b[0m\u001b[0;34m.\u001b[0m\u001b[0mcolumns\u001b[0m\u001b[0;34m.\u001b[0m\u001b[0mget_loc\u001b[0m\u001b[0;34m(\u001b[0m\u001b[0mkey\u001b[0m\u001b[0;34m)\u001b[0m\u001b[0;34m\u001b[0m\u001b[0;34m\u001b[0m\u001b[0m\n\u001b[0m\u001b[1;32m   3459\u001b[0m             \u001b[0;32mif\u001b[0m \u001b[0mis_integer\u001b[0m\u001b[0;34m(\u001b[0m\u001b[0mindexer\u001b[0m\u001b[0;34m)\u001b[0m\u001b[0;34m:\u001b[0m\u001b[0;34m\u001b[0m\u001b[0;34m\u001b[0m\u001b[0m\n\u001b[1;32m   3460\u001b[0m                 \u001b[0mindexer\u001b[0m \u001b[0;34m=\u001b[0m \u001b[0;34m[\u001b[0m\u001b[0mindexer\u001b[0m\u001b[0;34m]\u001b[0m\u001b[0;34m\u001b[0m\u001b[0;34m\u001b[0m\u001b[0m\n",
      "\u001b[0;32m/opt/anaconda3/envs/phys369/lib/python3.9/site-packages/pandas/core/indexes/base.py\u001b[0m in \u001b[0;36mget_loc\u001b[0;34m(self, key, method, tolerance)\u001b[0m\n\u001b[1;32m   3361\u001b[0m                 \u001b[0;32mreturn\u001b[0m \u001b[0mself\u001b[0m\u001b[0;34m.\u001b[0m\u001b[0m_engine\u001b[0m\u001b[0;34m.\u001b[0m\u001b[0mget_loc\u001b[0m\u001b[0;34m(\u001b[0m\u001b[0mcasted_key\u001b[0m\u001b[0;34m)\u001b[0m\u001b[0;34m\u001b[0m\u001b[0;34m\u001b[0m\u001b[0m\n\u001b[1;32m   3362\u001b[0m             \u001b[0;32mexcept\u001b[0m \u001b[0mKeyError\u001b[0m \u001b[0;32mas\u001b[0m \u001b[0merr\u001b[0m\u001b[0;34m:\u001b[0m\u001b[0;34m\u001b[0m\u001b[0;34m\u001b[0m\u001b[0m\n\u001b[0;32m-> 3363\u001b[0;31m                 \u001b[0;32mraise\u001b[0m \u001b[0mKeyError\u001b[0m\u001b[0;34m(\u001b[0m\u001b[0mkey\u001b[0m\u001b[0;34m)\u001b[0m \u001b[0;32mfrom\u001b[0m \u001b[0merr\u001b[0m\u001b[0;34m\u001b[0m\u001b[0;34m\u001b[0m\u001b[0m\n\u001b[0m\u001b[1;32m   3364\u001b[0m \u001b[0;34m\u001b[0m\u001b[0m\n\u001b[1;32m   3365\u001b[0m         \u001b[0;32mif\u001b[0m \u001b[0mis_scalar\u001b[0m\u001b[0;34m(\u001b[0m\u001b[0mkey\u001b[0m\u001b[0;34m)\u001b[0m \u001b[0;32mand\u001b[0m \u001b[0misna\u001b[0m\u001b[0;34m(\u001b[0m\u001b[0mkey\u001b[0m\u001b[0;34m)\u001b[0m \u001b[0;32mand\u001b[0m \u001b[0;32mnot\u001b[0m \u001b[0mself\u001b[0m\u001b[0;34m.\u001b[0m\u001b[0mhasnans\u001b[0m\u001b[0;34m:\u001b[0m\u001b[0;34m\u001b[0m\u001b[0;34m\u001b[0m\u001b[0m\n",
      "\u001b[0;31mKeyError\u001b[0m: 'lSFR_final'"
     ]
    },
    {
     "data": {
      "image/png": "[encoded data removed]",
      "text/plain": [
       "<Figure size 1200x800 with 1 Axes>"
      ]
     },
     "metadata": {
      "needs_background": "light"
     },
     "output_type": "display_data"
    }
   ],
   "source": [
    "#Plot SFR vs redshift for different overdensity bins\n",
    "legac_overdensity_1 = legac_overdensity[legac_overdensity[\"darvish_overdensity\"] <= 3]\n",
    "legac_overdensity_2 = legac_overdensity[(legac_overdensity[\"darvish_overdensity\"] > 3) & (legac_overdensity[\"darvish_overdensity\"] <= 6)]\n",
    "legac_overdensity_3 = legac_overdensity[(legac_overdensity[\"darvish_overdensity\"] > 6) & (legac_overdensity[\"darvish_overdensity\"] <= 9)]\n",
    "legac_overdensity_4 = legac_overdensity[legac_overdensity[\"darvish_overdensity\"] > 9]\n",
    "\n",
    "plt.figure(dpi=200)\n",
    "ax = plt.axes()\n",
    "ax.set_xlabel(\"Redshift\")\n",
    "ax.set_ylabel(\"lSFR_final\")\n",
    "\n",
    "plt.scatter(legac_overdensity_4[\"z_spec\"], legac_overdensity_4[\"lSFR_final\"], s=1, marker=\".\", label=\"Overdensity > 9\")\n",
    "plt.tick_params(which='both', direction='in', right=True, top=True)\n",
    "plt.legend()\n",
    "plt.show()"
   ]
  }
 ],
 "metadata": {
  "interpreter": {
   "hash": "40d3a090f54c6569ab1632332b64b2c03c39dcf918b08424e98f38b5ae0af88f"
  },
  "kernelspec": {
   "display_name": "Python 3.7.6 64-bit ('base': conda)",
   "language": "python",
   "name": "python3"
  },
  "language_info": {
   "codemirror_mode": {
    "name": "ipython",
    "version": 3
   },
   "file_extension": ".py",
   "mimetype": "text/x-python",
   "name": "python",
   "nbconvert_exporter": "python",
   "pygments_lexer": "ipython3",
   "version": "3.9.7"
  },
  "orig_nbformat": 4
 },
 "nbformat": 4,
 "nbformat_minor": 2
}
